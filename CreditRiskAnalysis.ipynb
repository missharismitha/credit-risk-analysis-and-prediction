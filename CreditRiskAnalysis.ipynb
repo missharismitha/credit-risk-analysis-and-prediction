{
 "cells": [
  {
   "cell_type": "code",
   "execution_count": 1,
   "id": "932a5c15",
   "metadata": {},
   "outputs": [],
   "source": [
    "import pandas as pd "
   ]
  },
  {
   "cell_type": "code",
   "execution_count": 2,
   "id": "5d7084d5",
   "metadata": {},
   "outputs": [
    {
     "name": "stdout",
     "output_type": "stream",
     "text": [
      "Data Loaded Successfully!\n"
     ]
    }
   ],
   "source": [
    "data = pd.read_csv('LendingClubLoanData.csv.gz',nrows=1000)\n",
    "print(\"Data Loaded Successfully!\")"
   ]
  },
  {
   "cell_type": "code",
   "execution_count": 3,
   "id": "fd48581e",
   "metadata": {},
   "outputs": [
    {
     "name": "stdout",
     "output_type": "stream",
     "text": [
      "         id  member_id  loan_amnt  funded_amnt  funded_amnt_inv        term  \\\n",
      "0  68407277        NaN     3600.0       3600.0           3600.0   36 months   \n",
      "1  68355089        NaN    24700.0      24700.0          24700.0   36 months   \n",
      "2  68341763        NaN    20000.0      20000.0          20000.0   60 months   \n",
      "3  66310712        NaN    35000.0      35000.0          35000.0   60 months   \n",
      "4  68476807        NaN    10400.0      10400.0          10400.0   60 months   \n",
      "\n",
      "   int_rate  installment grade sub_grade  ... hardship_payoff_balance_amount  \\\n",
      "0     13.99       123.03     C        C4  ...                            NaN   \n",
      "1     11.99       820.28     C        C1  ...                            NaN   \n",
      "2     10.78       432.66     B        B4  ...                            NaN   \n",
      "3     14.85       829.90     C        C5  ...                            NaN   \n",
      "4     22.45       289.91     F        F1  ...                            NaN   \n",
      "\n",
      "  hardship_last_payment_amount disbursement_method  debt_settlement_flag  \\\n",
      "0                          NaN                Cash                     N   \n",
      "1                          NaN                Cash                     N   \n",
      "2                          NaN                Cash                     N   \n",
      "3                          NaN                Cash                     N   \n",
      "4                          NaN                Cash                     N   \n",
      "\n",
      "  debt_settlement_flag_date settlement_status settlement_date  \\\n",
      "0                       NaN               NaN             NaN   \n",
      "1                       NaN               NaN             NaN   \n",
      "2                       NaN               NaN             NaN   \n",
      "3                       NaN               NaN             NaN   \n",
      "4                       NaN               NaN             NaN   \n",
      "\n",
      "  settlement_amount settlement_percentage  settlement_term  \n",
      "0               NaN                   NaN              NaN  \n",
      "1               NaN                   NaN              NaN  \n",
      "2               NaN                   NaN              NaN  \n",
      "3               NaN                   NaN              NaN  \n",
      "4               NaN                   NaN              NaN  \n",
      "\n",
      "[5 rows x 151 columns]\n"
     ]
    }
   ],
   "source": [
    "print(data.head())"
   ]
  },
  {
   "cell_type": "code",
   "execution_count": 4,
   "id": "99a4924b",
   "metadata": {},
   "outputs": [
    {
     "name": "stdout",
     "output_type": "stream",
     "text": [
      "                 id  member_id    loan_amnt  funded_amnt  funded_amnt_inv  \\\n",
      "count  1.000000e+03        0.0   1000.00000   1000.00000       1000.00000   \n",
      "mean   6.836271e+07        NaN  15582.20000  15582.20000      15582.20000   \n",
      "std    3.927437e+05        NaN   8694.53143   8694.53143       8694.53143   \n",
      "min    6.591656e+07        NaN   1000.00000   1000.00000       1000.00000   \n",
      "25%    6.837670e+07        NaN   9000.00000   9000.00000       9000.00000   \n",
      "50%    6.846556e+07        NaN  15000.00000  15000.00000      15000.00000   \n",
      "75%    6.853761e+07        NaN  21000.00000  21000.00000      21000.00000   \n",
      "max    6.861706e+07        NaN  35000.00000  35000.00000      35000.00000   \n",
      "\n",
      "          int_rate  installment     annual_inc  desc          dti  ...  \\\n",
      "count  1000.000000  1000.000000    1000.000000   0.0  1000.000000  ...   \n",
      "mean     12.045020   450.765360   79993.828110   NaN    19.365010  ...   \n",
      "std       4.404475   249.904156   41753.456497   NaN     8.346486  ...   \n",
      "min       5.320000    32.970000   13000.000000   NaN     0.630000  ...   \n",
      "25%       8.490000   266.312500   50000.000000   NaN    13.337500  ...   \n",
      "50%      11.480000   397.010000   72000.000000   NaN    18.795000  ...   \n",
      "75%      14.850000   602.950000  100000.000000   NaN    25.175000  ...   \n",
      "max      28.490000  1252.560000  450000.000000   NaN    46.710000  ...   \n",
      "\n",
      "       deferral_term  hardship_amount  hardship_length  hardship_dpd  \\\n",
      "count           10.0        10.000000             10.0     10.000000   \n",
      "mean             3.0       118.755000              3.0      9.500000   \n",
      "std              0.0        99.000531              0.0     11.286669   \n",
      "min              3.0        21.630000              3.0      0.000000   \n",
      "25%              3.0        46.897500              3.0      0.000000   \n",
      "50%              3.0        89.010000              3.0      4.000000   \n",
      "75%              3.0       162.657500              3.0     17.500000   \n",
      "max              3.0       328.790000              3.0     27.000000   \n",
      "\n",
      "       orig_projected_additional_accrued_interest  \\\n",
      "count                                    9.000000   \n",
      "mean                                   380.180000   \n",
      "std                                    304.634222   \n",
      "min                                     64.890000   \n",
      "25%                                    140.580000   \n",
      "50%                                    391.620000   \n",
      "75%                                    503.160000   \n",
      "max                                    986.370000   \n",
      "\n",
      "       hardship_payoff_balance_amount  hardship_last_payment_amount  \\\n",
      "count                       10.000000                      10.00000   \n",
      "mean                     11180.137000                     193.18800   \n",
      "std                       8451.535933                     264.07888   \n",
      "min                       1755.400000                       0.71000   \n",
      "25%                       4109.935000                      18.58000   \n",
      "50%                       9583.980000                      72.79000   \n",
      "75%                      17716.735000                     236.70250   \n",
      "max                      26990.900000                     756.87000   \n",
      "\n",
      "       settlement_amount  settlement_percentage  settlement_term  \n",
      "count          22.000000              22.000000        22.000000  \n",
      "mean         4677.728182              46.675455        12.090909  \n",
      "std          3424.722231               3.887082         8.366083  \n",
      "min           303.000000              44.930000         1.000000  \n",
      "25%          2737.000000              45.000000         4.500000  \n",
      "50%          4163.155000              45.000000        12.000000  \n",
      "75%          6122.140000              45.020000        18.000000  \n",
      "max         13403.000000              60.010000        24.000000  \n",
      "\n",
      "[8 rows x 116 columns]\n"
     ]
    }
   ],
   "source": [
    "print(data.describe())"
   ]
  },
  {
   "cell_type": "code",
   "execution_count": 5,
   "id": "ec8c5f3a",
   "metadata": {},
   "outputs": [
    {
     "name": "stdout",
     "output_type": "stream",
     "text": [
      "Dataset shape: (1000, 151)\n"
     ]
    }
   ],
   "source": [
    "print(\"Dataset shape:\", data.shape)"
   ]
  },
  {
   "cell_type": "code",
   "execution_count": 6,
   "id": "15f27c2d",
   "metadata": {},
   "outputs": [
    {
     "name": "stdout",
     "output_type": "stream",
     "text": [
      "Index(['id', 'member_id', 'loan_amnt', 'funded_amnt', 'funded_amnt_inv',\n",
      "       'term', 'int_rate', 'installment', 'grade', 'sub_grade',\n",
      "       ...\n",
      "       'hardship_payoff_balance_amount', 'hardship_last_payment_amount',\n",
      "       'disbursement_method', 'debt_settlement_flag',\n",
      "       'debt_settlement_flag_date', 'settlement_status', 'settlement_date',\n",
      "       'settlement_amount', 'settlement_percentage', 'settlement_term'],\n",
      "      dtype='object', length=151)\n"
     ]
    }
   ],
   "source": [
    "print(data.columns)"
   ]
  },
  {
   "cell_type": "code",
   "execution_count": 7,
   "id": "8f09d36b",
   "metadata": {},
   "outputs": [
    {
     "name": "stdout",
     "output_type": "stream",
     "text": [
      "id                          0\n",
      "member_id                1000\n",
      "loan_amnt                   0\n",
      "funded_amnt                 0\n",
      "funded_amnt_inv             0\n",
      "                         ... \n",
      "settlement_status         978\n",
      "settlement_date           978\n",
      "settlement_amount         978\n",
      "settlement_percentage     978\n",
      "settlement_term           978\n",
      "Length: 151, dtype: int64\n"
     ]
    }
   ],
   "source": [
    "#Checking for Missing Values \n",
    "print(data.isnull().sum())"
   ]
  },
  {
   "cell_type": "code",
   "execution_count": 8,
   "id": "084c8e6d",
   "metadata": {},
   "outputs": [
    {
     "name": "stdout",
     "output_type": "stream",
     "text": [
      "id                         0.0\n",
      "member_id                100.0\n",
      "loan_amnt                  0.0\n",
      "funded_amnt                0.0\n",
      "funded_amnt_inv            0.0\n",
      "                         ...  \n",
      "settlement_status         97.8\n",
      "settlement_date           97.8\n",
      "settlement_amount         97.8\n",
      "settlement_percentage     97.8\n",
      "settlement_term           97.8\n",
      "Length: 151, dtype: float64\n"
     ]
    }
   ],
   "source": [
    "#Percentage of missing values in each column \n",
    "missing_percentage = (data.isnull().sum()/len(data))*100\n",
    "print(missing_percentage)"
   ]
  },
  {
   "cell_type": "code",
   "execution_count": 9,
   "id": "6c08db11",
   "metadata": {},
   "outputs": [],
   "source": [
    "#Drop columns with more than 30% missing values\n",
    "data = data.dropna(thresh=len(data)*0.7,axis=1)"
   ]
  },
  {
   "cell_type": "code",
   "execution_count": 10,
   "id": "c2ca6862",
   "metadata": {},
   "outputs": [],
   "source": [
    "#Drop irrelevant columns, like IDs\n",
    "data = data.drop(['id','member_id'], axis=1,errors='ignore')"
   ]
  },
  {
   "cell_type": "code",
   "execution_count": 11,
   "id": "5fea5295",
   "metadata": {},
   "outputs": [
    {
     "name": "stdout",
     "output_type": "stream",
     "text": [
      "Cleaned dataset shape: (1000, 106)\n"
     ]
    }
   ],
   "source": [
    "#Display the cleaned dataset shape \n",
    "print(\"Cleaned dataset shape:\", data.shape)"
   ]
  },
  {
   "cell_type": "code",
   "execution_count": 12,
   "id": "1c159408",
   "metadata": {},
   "outputs": [
    {
     "name": "stdout",
     "output_type": "stream",
     "text": [
      "loan_amnt                     0\n",
      "funded_amnt                   0\n",
      "funded_amnt_inv               0\n",
      "term                          0\n",
      "int_rate                      0\n",
      "                             ..\n",
      "total_bc_limit                0\n",
      "total_il_high_credit_limit    0\n",
      "hardship_flag                 0\n",
      "disbursement_method           0\n",
      "debt_settlement_flag          0\n",
      "Length: 106, dtype: int64\n"
     ]
    }
   ],
   "source": [
    "# Step 1: Fill missing values for numeric columns\n",
    "data_numeric = data.select_dtypes(include=['number'])  # Get only numeric columns\n",
    "data[data_numeric.columns] = data_numeric.fillna(data_numeric.mean())  # Fill missing values with the mean\n",
    "\n",
    "# Step 2: Fill missing values for non-numeric columns\n",
    "data_non_numeric = data.select_dtypes(include=['object'])  # Get only non-numeric columns\n",
    "for col in data_non_numeric.columns:\n",
    "    data[col] = data[col].fillna(data[col].mode()[0])  # Fill with the most frequent value (mode)\n",
    "\n",
    "# Step 3: Verify there are no missing values\n",
    "print(data.isnull().sum())  # Should print 0 for all columns if successful"
   ]
  },
  {
   "cell_type": "code",
   "execution_count": 13,
   "id": "666c6b5e",
   "metadata": {},
   "outputs": [],
   "source": [
    "import seaborn as sns\n",
    "import matplotlib.pyplot as plt"
   ]
  },
  {
   "cell_type": "code",
   "execution_count": 14,
   "id": "3c6806dd",
   "metadata": {},
   "outputs": [
    {
     "data": {
      "image/png": "[encoded data removed]",
      "text/plain": [
       "<Figure size 800x600 with 1 Axes>"
      ]
     },
     "metadata": {},
     "output_type": "display_data"
    }
   ],
   "source": [
    "#Plot the distribution of loan status\n",
    "plt.figure(figsize=(8,6))\n",
    "sns.countplot(x='loan_status', data=data)\n",
    "plt.title('Loan Status Distribution')\n",
    "plt.xlabel('Loan Status')\n",
    "plt.ylabel('Count')\n",
    "plt.xticks(rotation=45) #Rotate labels if needed\n",
    "plt.show()"
   ]
  },
  {
   "cell_type": "code",
   "execution_count": 15,
   "id": "66a2996c",
   "metadata": {},
   "outputs": [
    {
     "name": "stderr",
     "output_type": "stream",
     "text": [
      "C:\\Users\\ASUS\\anaconda3\\Lib\\site-packages\\seaborn\\_oldcore.py:1119: FutureWarning: use_inf_as_na option is deprecated and will be removed in a future version. Convert inf values to NaN before operating instead.\n",
      "  with pd.option_context('mode.use_inf_as_na', True):\n"
     ]
    },
    {
     "data": {
      "image/png": "[encoded data removed]",
      "text/plain": [
       "<Figure size 800x600 with 1 Axes>"
      ]
     },
     "metadata": {},
     "output_type": "display_data"
    }
   ],
   "source": [
    "#Plot the Distribution of interest rates \n",
    "plt.figure(figsize=(8,6))\n",
    "sns.histplot(data['int_rate'], kde=True,color='orange')\n",
    "plt.title('Interest rate distribution')\n",
    "plt.xlabel('Interest Rate')\n",
    "plt.ylabel('Frequency')\n",
    "plt.show()"
   ]
  },
  {
   "cell_type": "code",
   "execution_count": 16,
   "id": "488d0c23",
   "metadata": {},
   "outputs": [
    {
     "data": {
      "image/png": "[encoded data removed]",
      "text/plain": [
       "<Figure size 1000x600 with 1 Axes>"
      ]
     },
     "metadata": {},
     "output_type": "display_data"
    }
   ],
   "source": [
    "#Check the relationship between loan grade and interest rate \n",
    "plt.figure(figsize=(10,6))\n",
    "sns.boxplot(x='grade',y = 'int_rate', data=data)\n",
    "plt.title('Interest Rate by Loan Grade')\n",
    "plt.xlabel('Loan grade')\n",
    "plt.ylabel('Interest Rate')\n",
    "plt.show()"
   ]
  },
  {
   "cell_type": "code",
   "execution_count": 17,
   "id": "cec0d8aa",
   "metadata": {},
   "outputs": [],
   "source": [
    "from sklearn.model_selection import train_test_split"
   ]
  },
  {
   "cell_type": "code",
   "execution_count": 18,
   "id": "6fd62744",
   "metadata": {},
   "outputs": [],
   "source": [
    "#Define X(Features) and y(target)\n",
    "X= data.drop('loan_status', axis=1) # Replace'loan_status' with your target column\n",
    "y = data['loan_status']"
   ]
  },
  {
   "cell_type": "code",
   "execution_count": 19,
   "id": "372c1fb3",
   "metadata": {},
   "outputs": [],
   "source": [
    "#Convert categorical target variable to numeric if needed\n",
    "#for example, use one-hot encoding\n",
    "y = pd.get_dummies(y, drop_first=True)"
   ]
  },
  {
   "cell_type": "code",
   "execution_count": 20,
   "id": "adebc91a",
   "metadata": {},
   "outputs": [],
   "source": [
    "#split the data into training and testing sets(80% training, 20% testing)\n",
    "X_train, X_test, y_train, y_test = train_test_split(X,y, test_size=0.2, random_state=42)"
   ]
  },
  {
   "cell_type": "code",
   "execution_count": 21,
   "id": "e503208f",
   "metadata": {},
   "outputs": [
    {
     "name": "stdout",
     "output_type": "stream",
     "text": [
      "Training set size: (800, 105)\n",
      "Testing set size: (200, 105)\n"
     ]
    }
   ],
   "source": [
    "#Print the sizes of the training and testing sets \n",
    "print(\"Training set size:\", X_train.shape)\n",
    "print(\"Testing set size:\", X_test.shape)"
   ]
  },
  {
   "cell_type": "code",
   "execution_count": 22,
   "id": "44863a45",
   "metadata": {},
   "outputs": [],
   "source": [
    "from sklearn.ensemble import RandomForestClassifier"
   ]
  },
  {
   "cell_type": "code",
   "execution_count": 23,
   "id": "e9714db4",
   "metadata": {},
   "outputs": [
    {
     "name": "stdout",
     "output_type": "stream",
     "text": [
      "Non-numeric columns in X_train:\n",
      " Index(['term', 'grade', 'sub_grade', 'emp_title', 'emp_length',\n",
      "       'home_ownership', 'verification_status', 'issue_d', 'pymnt_plan', 'url',\n",
      "       'purpose', 'title', 'zip_code', 'addr_state', 'earliest_cr_line',\n",
      "       'initial_list_status', 'last_pymnt_d', 'last_credit_pull_d',\n",
      "       'application_type', 'hardship_flag', 'disbursement_method',\n",
      "       'debt_settlement_flag'],\n",
      "      dtype='object')\n"
     ]
    }
   ],
   "source": [
    "# Check for non-numeric columns in training data\n",
    "non_numeric_cols = X_train.select_dtypes(include=['object']).columns\n",
    "print(\"Non-numeric columns in X_train:\\n\", non_numeric_cols)"
   ]
  },
  {
   "cell_type": "code",
   "execution_count": 24,
   "id": "6efe17d8",
   "metadata": {},
   "outputs": [],
   "source": [
    "# One-Hot Encoding for categorical columns\n",
    "categorical_cols = ['term', 'grade', 'sub_grade', 'emp_length', 'home_ownership',\n",
    "                    'verification_status', 'pymnt_plan', 'purpose', 'title',\n",
    "                    'zip_code', 'addr_state', 'initial_list_status', 'application_type',\n",
    "                    'hardship_flag', 'disbursement_method', 'debt_settlement_flag']\n",
    "\n",
    "X_train = pd.get_dummies(X_train, columns=categorical_cols, drop_first=True)\n",
    "X_test = pd.get_dummies(X_test, columns=categorical_cols, drop_first=True)"
   ]
  },
  {
   "cell_type": "code",
   "execution_count": 25,
   "id": "532f7769",
   "metadata": {
    "scrolled": true
   },
   "outputs": [
    {
     "name": "stdout",
     "output_type": "stream",
     "text": [
      "'issue_d' in X_train: True\n",
      "Columns in X_train:\n",
      " Index(['loan_amnt', 'funded_amnt', 'funded_amnt_inv', 'int_rate',\n",
      "       'installment', 'emp_title', 'annual_inc', 'issue_d', 'url', 'dti',\n",
      "       ...\n",
      "       'addr_state_UT', 'addr_state_VA', 'addr_state_VT', 'addr_state_WA',\n",
      "       'addr_state_WI', 'addr_state_WV', 'addr_state_WY',\n",
      "       'initial_list_status_w', 'application_type_Joint App',\n",
      "       'debt_settlement_flag_Y'],\n",
      "      dtype='object', length=593)\n"
     ]
    }
   ],
   "source": [
    "# Check if 'issue_d' exists in X_train\n",
    "print(\"'issue_d' in X_train:\", 'issue_d' in X_train.columns)\n",
    "\n",
    "# If not, print all columns in X_train to troubleshoot\n",
    "print(\"Columns in X_train:\\n\", X_train.columns)"
   ]
  },
  {
   "cell_type": "code",
   "execution_count": 26,
   "id": "728f9a12",
   "metadata": {},
   "outputs": [
    {
     "name": "stdout",
     "output_type": "stream",
     "text": [
      "Updated date columns: ['issue_d', 'earliest_cr_line', 'last_pymnt_d', 'last_credit_pull_d']\n"
     ]
    }
   ],
   "source": [
    "# Remove 'issue_d' from date_cols if it doesn't exist\n",
    "date_cols = [col for col in ['issue_d', 'earliest_cr_line', 'last_pymnt_d', 'last_credit_pull_d'] if col in X_train.columns]\n",
    "print(\"Updated date columns:\", date_cols)"
   ]
  },
  {
   "cell_type": "code",
   "execution_count": 27,
   "id": "4af7d8f8",
   "metadata": {},
   "outputs": [],
   "source": [
    "# Define the expected date format\n",
    "expected_date_format = \"%Y-%m-%d\"  # Adjust based on your dataset's date format\n",
    "\n",
    "# Dynamically identify date columns\n",
    "date_cols = [col for col in X_train.columns if 'date' in col.lower()]\n",
    "\n",
    "# Parse only the columns that exist\n",
    "for col in date_cols:\n",
    "    X_train[col] = pd.to_datetime(X_train[col], format=expected_date_format, errors='coerce')\n",
    "    X_test[col] = pd.to_datetime(X_test[col], format=expected_date_format, errors='coerce')\n",
    "\n",
    "    # Extract year and month as separate features\n",
    "    X_train[f\"{col}_year\"] = X_train[col].dt.year\n",
    "    X_train[f\"{col}_month\"] = X_train[col].dt.month\n",
    "\n",
    "    X_test[f\"{col}_year\"] = X_test[col].dt.year\n",
    "    X_test[f\"{col}_month\"] = X_test[col].dt.month"
   ]
  },
  {
   "cell_type": "code",
   "execution_count": 28,
   "id": "4e050742",
   "metadata": {},
   "outputs": [],
   "source": [
    "from sklearn.ensemble import RandomForestClassifier\n",
    "from sklearn.metrics import classification_report, accuracy_score"
   ]
  },
  {
   "cell_type": "code",
   "execution_count": 29,
   "id": "e87efa63",
   "metadata": {},
   "outputs": [],
   "source": [
    "# Step 1: Define Features (X) and Target (y)\n",
    "X = data.drop('loan_status', axis=1, errors='ignore')  # Replace 'loan_status' with your target column\n",
    "y = data['loan_status']"
   ]
  },
  {
   "cell_type": "code",
   "execution_count": 30,
   "id": "1a6c5471",
   "metadata": {},
   "outputs": [],
   "source": [
    "# Step 2: Dynamically Identify Categorical Columns\n",
    "categorical_cols = X.select_dtypes(include=['object']).columns.tolist()"
   ]
  },
  {
   "cell_type": "code",
   "execution_count": 31,
   "id": "bf147db0",
   "metadata": {},
   "outputs": [],
   "source": [
    "# Step 3: Apply One-Hot Encoding to Categorical Columns\n",
    "X = pd.get_dummies(X, columns=categorical_cols, drop_first=True)"
   ]
  },
  {
   "cell_type": "code",
   "execution_count": 32,
   "id": "b8ac1ec1",
   "metadata": {},
   "outputs": [],
   "source": [
    "# Step 4: Train-Test Split\n",
    "X_train, X_test, y_train, y_test = train_test_split(X, y, test_size=0.2, random_state=42)"
   ]
  },
  {
   "cell_type": "code",
   "execution_count": 33,
   "id": "eab27783",
   "metadata": {},
   "outputs": [],
   "source": [
    "# Step 5: Align Train and Test Sets\n",
    "X_train, X_test = X_train.align(X_test, join='left', axis=1)\n",
    "X_test = X_test.fillna(0)  # Fill missing columns in X_test with 0"
   ]
  },
  {
   "cell_type": "code",
   "execution_count": 34,
   "id": "eb4eb6a1",
   "metadata": {},
   "outputs": [],
   "source": [
    "# Step 6: Convert Target Variable to Numeric (if needed)\n",
    "y = pd.get_dummies(y, drop_first=True)"
   ]
  },
  {
   "cell_type": "code",
   "execution_count": 35,
   "id": "c5411fe9",
   "metadata": {},
   "outputs": [
    {
     "data": {
      "text/html": [
       "<style>#sk-container-id-1 {color: black;}#sk-container-id-1 pre{padding: 0;}#sk-container-id-1 div.sk-toggleable {background-color: white;}#sk-container-id-1 label.sk-toggleable__label {cursor: pointer;display: block;width: 100%;margin-bottom: 0;padding: 0.3em;box-sizing: border-box;text-align: center;}#sk-container-id-1 label.sk-toggleable__label-arrow:before {content: \"▸\";float: left;margin-right: 0.25em;color: #696969;}#sk-container-id-1 label.sk-toggleable__label-arrow:hover:before {color: black;}#sk-container-id-1 div.sk-estimator:hover label.sk-toggleable__label-arrow:before {color: black;}#sk-container-id-1 div.sk-toggleable__content {max-height: 0;max-width: 0;overflow: hidden;text-align: left;background-color: #f0f8ff;}#sk-container-id-1 div.sk-toggleable__content pre {margin: 0.2em;color: black;border-radius: 0.25em;background-color: #f0f8ff;}#sk-container-id-1 input.sk-toggleable__control:checked~div.sk-toggleable__content {max-height: 200px;max-width: 100%;overflow: auto;}#sk-container-id-1 input.sk-toggleable__control:checked~label.sk-toggleable__label-arrow:before {content: \"▾\";}#sk-container-id-1 div.sk-estimator input.sk-toggleable__control:checked~label.sk-toggleable__label {background-color: #d4ebff;}#sk-container-id-1 div.sk-label input.sk-toggleable__control:checked~label.sk-toggleable__label {background-color: #d4ebff;}#sk-container-id-1 input.sk-hidden--visually {border: 0;clip: rect(1px 1px 1px 1px);clip: rect(1px, 1px, 1px, 1px);height: 1px;margin: -1px;overflow: hidden;padding: 0;position: absolute;width: 1px;}#sk-container-id-1 div.sk-estimator {font-family: monospace;background-color: #f0f8ff;border: 1px dotted black;border-radius: 0.25em;box-sizing: border-box;margin-bottom: 0.5em;}#sk-container-id-1 div.sk-estimator:hover {background-color: #d4ebff;}#sk-container-id-1 div.sk-parallel-item::after {content: \"\";width: 100%;border-bottom: 1px solid gray;flex-grow: 1;}#sk-container-id-1 div.sk-label:hover label.sk-toggleable__label {background-color: #d4ebff;}#sk-container-id-1 div.sk-serial::before {content: \"\";position: absolute;border-left: 1px solid gray;box-sizing: border-box;top: 0;bottom: 0;left: 50%;z-index: 0;}#sk-container-id-1 div.sk-serial {display: flex;flex-direction: column;align-items: center;background-color: white;padding-right: 0.2em;padding-left: 0.2em;position: relative;}#sk-container-id-1 div.sk-item {position: relative;z-index: 1;}#sk-container-id-1 div.sk-parallel {display: flex;align-items: stretch;justify-content: center;background-color: white;position: relative;}#sk-container-id-1 div.sk-item::before, #sk-container-id-1 div.sk-parallel-item::before {content: \"\";position: absolute;border-left: 1px solid gray;box-sizing: border-box;top: 0;bottom: 0;left: 50%;z-index: -1;}#sk-container-id-1 div.sk-parallel-item {display: flex;flex-direction: column;z-index: 1;position: relative;background-color: white;}#sk-container-id-1 div.sk-parallel-item:first-child::after {align-self: flex-end;width: 50%;}#sk-container-id-1 div.sk-parallel-item:last-child::after {align-self: flex-start;width: 50%;}#sk-container-id-1 div.sk-parallel-item:only-child::after {width: 0;}#sk-container-id-1 div.sk-dashed-wrapped {border: 1px dashed gray;margin: 0 0.4em 0.5em 0.4em;box-sizing: border-box;padding-bottom: 0.4em;background-color: white;}#sk-container-id-1 div.sk-label label {font-family: monospace;font-weight: bold;display: inline-block;line-height: 1.2em;}#sk-container-id-1 div.sk-label-container {text-align: center;}#sk-container-id-1 div.sk-container {/* jupyter's `normalize.less` sets `[hidden] { display: none; }` but bootstrap.min.css set `[hidden] { display: none !important; }` so we also need the `!important` here to be able to override the default hidden behavior on the sphinx rendered scikit-learn.org. See: https://github.com/scikit-learn/scikit-learn/issues/21755 */display: inline-block !important;position: relative;}#sk-container-id-1 div.sk-text-repr-fallback {display: none;}</style><div id=\"sk-container-id-1\" class=\"sk-top-container\"><div class=\"sk-text-repr-fallback\"><pre>RandomForestClassifier(random_state=42)</pre><b>In a Jupyter environment, please rerun this cell to show the HTML representation or trust the notebook. <br />On GitHub, the HTML representation is unable to render, please try loading this page with nbviewer.org.</b></div><div class=\"sk-container\" hidden><div class=\"sk-item\"><div class=\"sk-estimator sk-toggleable\"><input class=\"sk-toggleable__control sk-hidden--visually\" id=\"sk-estimator-id-1\" type=\"checkbox\" checked><label for=\"sk-estimator-id-1\" class=\"sk-toggleable__label sk-toggleable__label-arrow\">RandomForestClassifier</label><div class=\"sk-toggleable__content\"><pre>RandomForestClassifier(random_state=42)</pre></div></div></div></div></div>"
      ],
      "text/plain": [
       "RandomForestClassifier(random_state=42)"
      ]
     },
     "execution_count": 35,
     "metadata": {},
     "output_type": "execute_result"
    }
   ],
   "source": [
    "# Step 7: Train the Random Forest Model\n",
    "model = RandomForestClassifier(random_state=42)\n",
    "model.fit(X_train, y_train)"
   ]
  },
  {
   "cell_type": "code",
   "execution_count": 36,
   "id": "3a5941ab",
   "metadata": {},
   "outputs": [],
   "source": [
    "#Make Predictions on the test set \n",
    "y_pred = model.predict(X_test)"
   ]
  },
  {
   "cell_type": "code",
   "execution_count": 37,
   "id": "2050ae15",
   "metadata": {
    "scrolled": true
   },
   "outputs": [
    {
     "name": "stdout",
     "output_type": "stream",
     "text": [
      "Accuracy: 0.95\n",
      "\n",
      "Classification Report:\n",
      "                  precision    recall  f1-score   support\n",
      "\n",
      "    Charged Off       1.00      0.78      0.88        37\n",
      "        Current       0.96      0.96      0.96        24\n",
      "     Fully Paid       0.94      1.00      0.97       138\n",
      "In Grace Period       0.00      0.00      0.00         1\n",
      "\n",
      "       accuracy                           0.95       200\n",
      "      macro avg       0.72      0.69      0.70       200\n",
      "   weighted avg       0.95      0.95      0.95       200\n",
      "\n"
     ]
    },
    {
     "name": "stderr",
     "output_type": "stream",
     "text": [
      "C:\\Users\\ASUS\\anaconda3\\Lib\\site-packages\\sklearn\\metrics\\_classification.py:1469: UndefinedMetricWarning: Precision and F-score are ill-defined and being set to 0.0 in labels with no predicted samples. Use `zero_division` parameter to control this behavior.\n",
      "  _warn_prf(average, modifier, msg_start, len(result))\n",
      "C:\\Users\\ASUS\\anaconda3\\Lib\\site-packages\\sklearn\\metrics\\_classification.py:1469: UndefinedMetricWarning: Precision and F-score are ill-defined and being set to 0.0 in labels with no predicted samples. Use `zero_division` parameter to control this behavior.\n",
      "  _warn_prf(average, modifier, msg_start, len(result))\n",
      "C:\\Users\\ASUS\\anaconda3\\Lib\\site-packages\\sklearn\\metrics\\_classification.py:1469: UndefinedMetricWarning: Precision and F-score are ill-defined and being set to 0.0 in labels with no predicted samples. Use `zero_division` parameter to control this behavior.\n",
      "  _warn_prf(average, modifier, msg_start, len(result))\n"
     ]
    }
   ],
   "source": [
    "#Evaluate the model \n",
    "print(\"Accuracy:\", accuracy_score(y_test, y_pred))\n",
    "print(\"\\nClassification Report:\\n\", classification_report(y_test, y_pred))"
   ]
  }
 ],
 "metadata": {
  "kernelspec": {
   "display_name": "Python 3 (ipykernel)",
   "language": "python",
   "name": "python3"
  },
  "language_info": {
   "codemirror_mode": {
    "name": "ipython",
    "version": 3
   },
   "file_extension": ".py",
   "mimetype": "text/x-python",
   "name": "python",
   "nbconvert_exporter": "python",
   "pygments_lexer": "ipython3",
   "version": "3.11.5"
  }
 },
 "nbformat": 4,
 "nbformat_minor": 5
}
